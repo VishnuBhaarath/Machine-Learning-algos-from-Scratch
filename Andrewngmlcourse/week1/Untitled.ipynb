{
 "cells": [
  {
   "cell_type": "code",
   "execution_count": 176,
   "metadata": {},
   "outputs": [],
   "source": [
    "import pandas as pd\n",
    "import numpy as np\n",
    "import matplotlib.pyplot as plt"
   ]
  },
  {
   "cell_type": "code",
   "execution_count": 177,
   "metadata": {},
   "outputs": [
    {
     "data": {
      "text/html": [
       "<div>\n",
       "<style scoped>\n",
       "    .dataframe tbody tr th:only-of-type {\n",
       "        vertical-align: middle;\n",
       "    }\n",
       "\n",
       "    .dataframe tbody tr th {\n",
       "        vertical-align: top;\n",
       "    }\n",
       "\n",
       "    .dataframe thead th {\n",
       "        text-align: right;\n",
       "    }\n",
       "</style>\n",
       "<table border=\"1\" class=\"dataframe\">\n",
       "  <thead>\n",
       "    <tr style=\"text-align: right;\">\n",
       "      <th></th>\n",
       "      <th>X</th>\n",
       "      <th>Y</th>\n",
       "    </tr>\n",
       "  </thead>\n",
       "  <tbody>\n",
       "    <tr>\n",
       "      <th>0</th>\n",
       "      <td>6.1101</td>\n",
       "      <td>17.5920</td>\n",
       "    </tr>\n",
       "    <tr>\n",
       "      <th>1</th>\n",
       "      <td>5.5277</td>\n",
       "      <td>9.1302</td>\n",
       "    </tr>\n",
       "    <tr>\n",
       "      <th>2</th>\n",
       "      <td>8.5186</td>\n",
       "      <td>13.6620</td>\n",
       "    </tr>\n",
       "    <tr>\n",
       "      <th>3</th>\n",
       "      <td>7.0032</td>\n",
       "      <td>11.8540</td>\n",
       "    </tr>\n",
       "    <tr>\n",
       "      <th>4</th>\n",
       "      <td>5.8598</td>\n",
       "      <td>6.8233</td>\n",
       "    </tr>\n",
       "  </tbody>\n",
       "</table>\n",
       "</div>"
      ],
      "text/plain": [
       "        X        Y\n",
       "0  6.1101  17.5920\n",
       "1  5.5277   9.1302\n",
       "2  8.5186  13.6620\n",
       "3  7.0032  11.8540\n",
       "4  5.8598   6.8233"
      ]
     },
     "execution_count": 177,
     "metadata": {},
     "output_type": "execute_result"
    }
   ],
   "source": [
    "df=pd.read_csv('ex1data1.txt',sep=\",\", header=None)\n",
    "df.columns=[\"X\",\"Y\"]\n",
    "df.head()"
   ]
  },
  {
   "cell_type": "code",
   "execution_count": 178,
   "metadata": {},
   "outputs": [],
   "source": [
    "df['bias']=1"
   ]
  },
  {
   "cell_type": "code",
   "execution_count": 179,
   "metadata": {},
   "outputs": [
    {
     "data": {
      "text/html": [
       "<div>\n",
       "<style scoped>\n",
       "    .dataframe tbody tr th:only-of-type {\n",
       "        vertical-align: middle;\n",
       "    }\n",
       "\n",
       "    .dataframe tbody tr th {\n",
       "        vertical-align: top;\n",
       "    }\n",
       "\n",
       "    .dataframe thead th {\n",
       "        text-align: right;\n",
       "    }\n",
       "</style>\n",
       "<table border=\"1\" class=\"dataframe\">\n",
       "  <thead>\n",
       "    <tr style=\"text-align: right;\">\n",
       "      <th></th>\n",
       "      <th>X</th>\n",
       "      <th>Y</th>\n",
       "      <th>bias</th>\n",
       "    </tr>\n",
       "  </thead>\n",
       "  <tbody>\n",
       "    <tr>\n",
       "      <th>0</th>\n",
       "      <td>6.1101</td>\n",
       "      <td>17.5920</td>\n",
       "      <td>1</td>\n",
       "    </tr>\n",
       "    <tr>\n",
       "      <th>1</th>\n",
       "      <td>5.5277</td>\n",
       "      <td>9.1302</td>\n",
       "      <td>1</td>\n",
       "    </tr>\n",
       "    <tr>\n",
       "      <th>2</th>\n",
       "      <td>8.5186</td>\n",
       "      <td>13.6620</td>\n",
       "      <td>1</td>\n",
       "    </tr>\n",
       "    <tr>\n",
       "      <th>3</th>\n",
       "      <td>7.0032</td>\n",
       "      <td>11.8540</td>\n",
       "      <td>1</td>\n",
       "    </tr>\n",
       "    <tr>\n",
       "      <th>4</th>\n",
       "      <td>5.8598</td>\n",
       "      <td>6.8233</td>\n",
       "      <td>1</td>\n",
       "    </tr>\n",
       "  </tbody>\n",
       "</table>\n",
       "</div>"
      ],
      "text/plain": [
       "        X        Y  bias\n",
       "0  6.1101  17.5920     1\n",
       "1  5.5277   9.1302     1\n",
       "2  8.5186  13.6620     1\n",
       "3  7.0032  11.8540     1\n",
       "4  5.8598   6.8233     1"
      ]
     },
     "execution_count": 179,
     "metadata": {},
     "output_type": "execute_result"
    }
   ],
   "source": [
    "df.head()"
   ]
  },
  {
   "cell_type": "code",
   "execution_count": 180,
   "metadata": {},
   "outputs": [],
   "source": [
    "x=df[['bias','X']]\n",
    "y=df['Y']"
   ]
  },
  {
   "cell_type": "markdown",
   "metadata": {},
   "source": [
    "Part 3: Cost and Gradient Descent"
   ]
  },
  {
   "cell_type": "code",
   "execution_count": 181,
   "metadata": {},
   "outputs": [
    {
     "name": "stdout",
     "output_type": "stream",
     "text": [
      "97\n"
     ]
    }
   ],
   "source": [
    "m=len(y)\n",
    "print(m)"
   ]
  },
  {
   "cell_type": "code",
   "execution_count": 182,
   "metadata": {},
   "outputs": [],
   "source": [
    "X=np.array(x)"
   ]
  },
  {
   "cell_type": "code",
   "execution_count": 183,
   "metadata": {},
   "outputs": [],
   "source": [
    "Y=np.array(y)"
   ]
  },
  {
   "cell_type": "code",
   "execution_count": 184,
   "metadata": {},
   "outputs": [
    {
     "name": "stdout",
     "output_type": "stream",
     "text": [
      "[[0], [0]]\n"
     ]
    }
   ],
   "source": [
    "theta0=0\n",
    "theta1=0\n",
    "theta=[[theta0],[theta1]]\n",
    "print(theta)"
   ]
  },
  {
   "cell_type": "code",
   "execution_count": 185,
   "metadata": {},
   "outputs": [
    {
     "data": {
      "text/plain": [
       "2"
      ]
     },
     "execution_count": 185,
     "metadata": {},
     "output_type": "execute_result"
    }
   ],
   "source": [
    "len(theta)"
   ]
  },
  {
   "cell_type": "code",
   "execution_count": 186,
   "metadata": {},
   "outputs": [],
   "source": [
    "ans=0"
   ]
  },
  {
   "cell_type": "markdown",
   "metadata": {},
   "source": [
    "Intial cost computed with thetas intialised to 0"
   ]
  },
  {
   "cell_type": "code",
   "execution_count": 187,
   "metadata": {},
   "outputs": [],
   "source": [
    "for i in range(97):\n",
    "    sum=theta0*1 +theta1*X[i][1]\n",
    "    sum=sum-Y[i]\n",
    "    prod=sum*sum\n",
    "    ans=ans+prod\n",
    "    "
   ]
  },
  {
   "cell_type": "code",
   "execution_count": 188,
   "metadata": {},
   "outputs": [
    {
     "data": {
      "text/plain": [
       "32.072733877455654"
      ]
     },
     "execution_count": 188,
     "metadata": {},
     "output_type": "execute_result"
    }
   ],
   "source": [
    "ans/(2*m)"
   ]
  },
  {
   "cell_type": "code",
   "execution_count": 189,
   "metadata": {},
   "outputs": [],
   "source": [
    "alpha=0.01\n",
    "for i in range(1500):\n",
    "    ans1=0\n",
    "    ans2=0\n",
    "    sum=0\n",
    "    for j in range(97):\n",
    "        sum=theta0*1 + theta1*X[j][1]\n",
    "        sum=sum-Y[j]\n",
    "        ans1=ans1+sum\n",
    "    temp0=theta0- (alpha/m)*(ans1)\n",
    "    sum=0 \n",
    "    for j in range(97):\n",
    "         sum=theta0*1+theta1*X[j][1]\n",
    "         sum=sum-Y[j]\n",
    "         prod=sum*X[j][1]\n",
    "         ans2=ans2+prod\n",
    "    temp1=theta1-(alpha/m)*ans2   \n",
    "    theta0=temp0\n",
    "    theta1=temp1 \n",
    "        \n",
    "          "
   ]
  },
  {
   "cell_type": "code",
   "execution_count": 190,
   "metadata": {},
   "outputs": [
    {
     "data": {
      "text/plain": [
       "-3.63029143940436"
      ]
     },
     "execution_count": 190,
     "metadata": {},
     "output_type": "execute_result"
    }
   ],
   "source": [
    "theta0"
   ]
  },
  {
   "cell_type": "code",
   "execution_count": 191,
   "metadata": {},
   "outputs": [
    {
     "data": {
      "text/plain": [
       "1.166362350335582"
      ]
     },
     "execution_count": 191,
     "metadata": {},
     "output_type": "execute_result"
    }
   ],
   "source": [
    "theta1"
   ]
  },
  {
   "cell_type": "markdown",
   "metadata": {},
   "source": [
    "Using matrix"
   ]
  },
  {
   "cell_type": "code",
   "execution_count": 192,
   "metadata": {},
   "outputs": [
    {
     "name": "stdout",
     "output_type": "stream",
     "text": [
      "[[0], [0]]\n"
     ]
    }
   ],
   "source": [
    "theta0=0\n",
    "theta1=0\n",
    "theta=[[theta0],[theta1]]\n",
    "print(theta)"
   ]
  },
  {
   "cell_type": "code",
   "execution_count": 193,
   "metadata": {},
   "outputs": [
    {
     "data": {
      "text/plain": [
       "(97, 2)"
      ]
     },
     "execution_count": 193,
     "metadata": {},
     "output_type": "execute_result"
    }
   ],
   "source": [
    "X.shape"
   ]
  },
  {
   "cell_type": "code",
   "execution_count": 194,
   "metadata": {},
   "outputs": [],
   "source": [
    "Y=Y.reshape(97,1)"
   ]
  },
  {
   "cell_type": "code",
   "execution_count": 196,
   "metadata": {},
   "outputs": [],
   "source": [
    "h=np.dot(X,theta)\n",
    "t=np.subtract(h,Y)"
   ]
  },
  {
   "cell_type": "code",
   "execution_count": 199,
   "metadata": {},
   "outputs": [
    {
     "data": {
      "text/plain": [
       "array([[-107.4888792 ],\n",
       "       [ -50.46900654],\n",
       "       [-116.3811132 ],\n",
       "       [ -83.0159328 ],\n",
       "       [ -39.98317334],\n",
       "       [ -99.6391494 ],\n",
       "       [ -32.50963012],\n",
       "       [-102.9372    ],\n",
       "       [ -42.80048794],\n",
       "       [ -19.29138636],\n",
       "       [ -18.57233854],\n",
       "       [-219.61282   ],\n",
       "       [ -18.0913434 ],\n",
       "       [ -60.75741672],\n",
       "       [  -4.03975653],\n",
       "       [ -18.89729426],\n",
       "       [ -33.76717392],\n",
       "       [  -2.87680618],\n",
       "       [ -23.47961328],\n",
       "       [ -38.10666244],\n",
       "       [ -19.42510926],\n",
       "       [-441.21709   ],\n",
       "       [ -23.4042963 ],\n",
       "       [ -32.81664375],\n",
       "       [ -17.15380425],\n",
       "       [-428.87691   ],\n",
       "       [-173.190828  ],\n",
       "       [ -77.2106919 ],\n",
       "       [-193.581792  ],\n",
       "       [-536.135841  ],\n",
       "       [   6.407928  ],\n",
       "       [ -39.51399604],\n",
       "       [-112.2176588 ],\n",
       "       [ -10.8968841 ],\n",
       "       [ -53.72194286],\n",
       "       [ -36.19455082],\n",
       "       [ -33.32596276],\n",
       "       [ -19.02105464],\n",
       "       [-129.861812  ],\n",
       "       [ -34.92718116],\n",
       "       [  -3.00931833],\n",
       "       [ -26.92089875],\n",
       "       [ -63.0522632 ],\n",
       "       [ -14.09129222],\n",
       "       [ -52.67431546],\n",
       "       [  -7.42151053],\n",
       "       [ -26.02888574],\n",
       "       [ -10.6977816 ],\n",
       "       [ -93.65031   ],\n",
       "       [  -5.64079464],\n",
       "       [ -50.89936608],\n",
       "       [  -9.76404492],\n",
       "       [ -31.83739515],\n",
       "       [ -38.00105411],\n",
       "       [  -9.01347424],\n",
       "       [   9.03663279],\n",
       "       [ -15.53240952],\n",
       "       [ -25.96630674],\n",
       "       [ -36.89073648],\n",
       "       [ -51.18273576],\n",
       "       [ -45.62202276],\n",
       "       [   3.84713225],\n",
       "       [-381.511191  ],\n",
       "       [-179.701032  ],\n",
       "       [-323.326786  ],\n",
       "       [ -35.26235064],\n",
       "       [ -47.64871342],\n",
       "       [ -79.5889944 ],\n",
       "       [  -5.59453962],\n",
       "       [-426.998272  ],\n",
       "       [ -67.7074664 ],\n",
       "       [ -29.52796355],\n",
       "       [  -7.67832608],\n",
       "       [ -24.14245449],\n",
       "       [  13.47561083],\n",
       "       [  -1.94328576],\n",
       "       [ -29.2836917 ],\n",
       "       [ -28.7151011 ],\n",
       "       [ -69.3762124 ],\n",
       "       [ -10.50960352],\n",
       "       [  -2.74732328],\n",
       "       [  -1.05952316],\n",
       "       [  -4.31304158],\n",
       "       [ -73.69018845],\n",
       "       [ -34.81836324],\n",
       "       [ -36.1257038 ],\n",
       "       [ -62.40791762],\n",
       "       [  -5.5635539 ],\n",
       "       [  -0.8391008 ],\n",
       "       [ -14.27459116],\n",
       "       [ -10.53127727],\n",
       "       [ -32.80606994],\n",
       "       [ -42.28606503],\n",
       "       [ -10.54129926],\n",
       "       [  -1.19872804],\n",
       "       [-121.2840094 ],\n",
       "       [  -3.35483914]])"
      ]
     },
     "execution_count": 199,
     "metadata": {},
     "output_type": "execute_result"
    }
   ],
   "source": [
    "np.multiply(t,X[:,1].reshape(97,1))"
   ]
  },
  {
   "cell_type": "code",
   "execution_count": null,
   "metadata": {},
   "outputs": [],
   "source": []
  }
 ],
 "metadata": {
  "kernelspec": {
   "display_name": "Python 3",
   "language": "python",
   "name": "python3"
  },
  "language_info": {
   "codemirror_mode": {
    "name": "ipython",
    "version": 3
   },
   "file_extension": ".py",
   "mimetype": "text/x-python",
   "name": "python",
   "nbconvert_exporter": "python",
   "pygments_lexer": "ipython3",
   "version": "3.7.3"
  }
 },
 "nbformat": 4,
 "nbformat_minor": 2
}
